{
 "cells": [
  {
   "cell_type": "code",
   "execution_count": 2,
   "metadata": {},
   "outputs": [
    {
     "name": "stdout",
     "output_type": "stream",
     "text": [
      "круг\n",
      "5\n",
      "78.5\n"
     ]
    }
   ],
   "source": [
    "\n",
    "def circle(r):\n",
    "    return 3.14 * (r ** 2)\n",
    "\n",
    "\n",
    "def triangle(a, b, c):\n",
    "    p = (a + b + c) / 2\n",
    "\n",
    "    return (p * (p - a) * (p - b) * (p - c)) ** 0.5\n",
    "\n",
    "\n",
    "def rectangle(a, b):\n",
    "    return a * b\n",
    "\n",
    "\n",
    "form = input()\n",
    "\n",
    "area = 0\n",
    "\n",
    "if form == 'треугольник':\n",
    "    area = triangle(float(input()), float(input()), float(input()))\n",
    "elif form == 'прямоугольник':\n",
    "    area = rectangle(float(input()), float(input()))\n",
    "elif form == 'круг':\n",
    "    area = circle(float(input()))\n",
    "\n",
    "print(area)"
   ]
  },
  {
   "cell_type": "code",
   "execution_count": null,
   "metadata": {},
   "outputs": [],
   "source": []
  }
 ],
 "metadata": {
  "kernelspec": {
   "display_name": "Python 3",
   "language": "python",
   "name": "python3"
  },
  "language_info": {
   "codemirror_mode": {
    "name": "ipython",
    "version": 3
   },
   "file_extension": ".py",
   "mimetype": "text/x-python",
   "name": "python",
   "nbconvert_exporter": "python",
   "pygments_lexer": "ipython3",
   "version": "3.8.2"
  }
 },
 "nbformat": 4,
 "nbformat_minor": 4
}
