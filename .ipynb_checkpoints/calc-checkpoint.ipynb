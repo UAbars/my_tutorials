{
 "cells": [
  {
   "cell_type": "code",
   "execution_count": 38,
   "metadata": {},
   "outputs": [
    {
     "name": "stdout",
     "output_type": "stream",
     "text": [
      "5.0\n",
      "0.0\n",
      "mod\n",
      "Деление на 0!\n"
     ]
    }
   ],
   "source": [
    "def calculate(a, b, op):\n",
    "    result = 0\n",
    "\n",
    "    if op == '+':\n",
    "        result = a + b\n",
    "    elif op == '-':\n",
    "        result = a - b\n",
    "    elif op == '*':\n",
    "        result = a * b\n",
    "    elif op == 'pow':\n",
    "        result = a ** b\n",
    "    elif op == '/':\n",
    "        result = a / b\n",
    "    elif op == 'mod':\n",
    "        result = a % b\n",
    "    elif op == 'div':\n",
    "        result = a // b\n",
    "\n",
    "    return result\n",
    "\n",
    "\n",
    "try:\n",
    "    print(calculate(float(input()), float(input()), input()))\n",
    "except ZeroDivisionError as e:\n",
    "    print('Деление на 0!')"
   ]
  },
  {
   "cell_type": "code",
   "execution_count": null,
   "metadata": {},
   "outputs": [],
   "source": [
    "5.0\n",
    "0.0\n",
    "mod"
   ]
  },
  {
   "cell_type": "code",
   "execution_count": null,
   "metadata": {},
   "outputs": [],
   "source": []
  },
  {
   "cell_type": "code",
   "execution_count": null,
   "metadata": {},
   "outputs": [],
   "source": []
  }
 ],
 "metadata": {
  "kernelspec": {
   "display_name": "Python 3",
   "language": "python",
   "name": "python3"
  },
  "language_info": {
   "codemirror_mode": {
    "name": "ipython",
    "version": 3
   },
   "file_extension": ".py",
   "mimetype": "text/x-python",
   "name": "python",
   "nbconvert_exporter": "python",
   "pygments_lexer": "ipython3",
   "version": "3.8.2"
  }
 },
 "nbformat": 4,
 "nbformat_minor": 4
}
